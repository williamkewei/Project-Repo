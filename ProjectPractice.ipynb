{
 "cells": [
  {
   "cell_type": "code",
   "execution_count": null,
   "metadata": {},
   "outputs": [],
   "source": [
    "# Dependencies\n",
    "import gmaps\n",
    "import requests\n",
    "import random\n",
    "\n",
    "import pandas as pd\n",
    "import matplotlib.pyplot as plt\n",
    "\n",
    "from scipy import stats\n",
    "from config6 import gkey\n",
    "from pprint import pprint\n",
    "from config4 import api_key"
   ]
  },
  {
   "cell_type": "code",
   "execution_count": null,
   "metadata": {},
   "outputs": [],
   "source": [
    "# Save config information.\n",
    "url1 = \"http://api.openweathermap.org/data/2.5/weather?\"\n",
    "lat = \"28.0836\"\n",
    "lon = \"-80.6081\""
   ]
  },
  {
   "cell_type": "code",
   "execution_count": null,
   "metadata": {},
   "outputs": [],
   "source": [
    "# Build partial query URL\n",
    "query_url1 = f\"{url1}appid={api_key}&lat={lat}&lon={lon}&q=\""
   ]
  },
  {
   "cell_type": "code",
   "execution_count": null,
   "metadata": {},
   "outputs": [],
   "source": [
    "weather_response = requests.get(query_url1)\n",
    "weather_json = weather_response.json()\n",
    "pprint(weather_json)"
   ]
  },
  {
   "cell_type": "code",
   "execution_count": null,
   "metadata": {},
   "outputs": [],
   "source": [
    "# Get latitude and longitudes for cities\n",
    "cities = [\"Melbourne\", \"Sydney\", \"Brisbane\", \"Adelaide\", \"Perth\", \"Hobart\", \"Darwin\", \"Canberra\"]"
   ]
  },
  {
   "cell_type": "code",
   "execution_count": null,
   "metadata": {},
   "outputs": [],
   "source": [
    "# set up lists to hold reponse info\n",
    "lat = []\n",
    "lon = []\n",
    "location_dt = []\n",
    "weather_dscrptn = []\n",
    "humidity = []\n",
    "temp_max = []\n",
    "temp_min = []"
   ]
  },
  {
   "cell_type": "code",
   "execution_count": null,
   "metadata": {},
   "outputs": [],
   "source": [
    "# Loop through the list of cities and perform a request for data on each\n",
    "for city in cities:\n",
    "    response = requests.get(query_url1 + city).json()\n",
    "    lat.append(response['coord']['lat'])\n",
    "    lon.append(response['coord']['lon'])\n",
    "    location_dt.append(response['dt'])\n",
    "    weather_dscrptn.append(response['weather'][0]['description'])\n",
    "    humidity.append(response['main']['humidity'])\n",
    "    temp_max.append(response['main']['temp_max'])\n",
    "    temp_min.append(response['main']['temp_min'])\n",
    "\n",
    "print(f\"The latitude information received is: {lat}\")\n",
    "print(f\"The longitude information received is: {lon}\")\n",
    "print(f\"The timestamp information received is: {location_dt}\")\n",
    "print(f\"The weather description information received is: {weather_dscrptn}\")\n",
    "print(f\"The humidity information received is: {humidity}\")\n",
    "print(f\"The max temp information received is: {temp_max}\")\n",
    "print(f\"The min temp  information received is: {temp_min}\")"
   ]
  },
  {
   "cell_type": "code",
   "execution_count": null,
   "metadata": {},
   "outputs": [],
   "source": [
    "# create a data frame from cities, lat, and temp\n",
    "weather_dict = {\n",
    "    \"City\" : cities,\n",
    "    \"Latitude\" : lat,\n",
    "    \"Longitude\" : lon,\n",
    "    \"Timestamp\" : location_dt,\n",
    "    \"Weather Description\" : weather_dscrptn,\n",
    "    \"Humidity\" : humidity,\n",
    "    \"Max Temp\" : temp_max,\n",
    "    \"Min Temp\" : temp_min\n",
    "}\n",
    "\n",
    "weather_df = pd.DataFrame(weather_dict)\n",
    "weather_df.head()"
   ]
  },
  {
   "cell_type": "code",
   "execution_count": null,
   "metadata": {},
   "outputs": [],
   "source": [
    "#------------------------------------------------------------------------------------------------------------------------------"
   ]
  },
  {
   "cell_type": "code",
   "execution_count": null,
   "metadata": {},
   "outputs": [],
   "source": [
    "#------------------------------------------------------------------------------------------------------------------------------"
   ]
  },
  {
   "cell_type": "code",
   "execution_count": null,
   "metadata": {},
   "outputs": [],
   "source": [
    "#------------------------------------------------------------------------------------------------------------------------------"
   ]
  },
  {
   "cell_type": "code",
   "execution_count": null,
   "metadata": {},
   "outputs": [],
   "source": [
    "# Save config information.\n",
    "url2 = \"http://api.openweathermap.org/data/2.5/air_pollution/history?\"\n",
    "lat2 = \"39.9042\"\n",
    "lon2 = \"116.4074\"\n",
    "start = \"1606488670\"\n",
    "end = \"1606747870\""
   ]
  },
  {
   "cell_type": "code",
   "execution_count": null,
   "metadata": {},
   "outputs": [],
   "source": [
    "# Build partial query URL\n",
    "query_url2 = f\"{url2}lat={lat2}&lon={lon2}&start={start}&end={end}&appid={api_key}\""
   ]
  },
  {
   "cell_type": "code",
   "execution_count": null,
   "metadata": {},
   "outputs": [],
   "source": [
    "pollution_response = requests.get(query_url2)\n",
    "pollution_json = pollution_response.json()\n",
    "pprint(pollution_json)"
   ]
  },
  {
   "cell_type": "code",
   "execution_count": null,
   "metadata": {},
   "outputs": [],
   "source": [
    "#just a reminder of cities\n",
    "#cities = [\"Melbourne\", \"Sydney\", \"Brisbane\", \"Adelaide\", \"Perth\", \"Hobart\", \"Darwin\", \"Canberra\"]"
   ]
  },
  {
   "cell_type": "code",
   "execution_count": null,
   "metadata": {},
   "outputs": [],
   "source": [
    "history_dt = []\n",
    "aqi = []\n",
    "co = []\n",
    "no = []\n",
    "no2 = []\n",
    "o3 = []\n",
    "so2 = []\n",
    "pm2_5 = []\n",
    "pm10 = []\n",
    "nh3 = []"
   ]
  },
  {
   "cell_type": "code",
   "execution_count": null,
   "metadata": {},
   "outputs": [],
   "source": [
    "print(\"Air Quality Index\") \n",
    "print(\"Possible values: 1, 2, 3, 4, 5.\") \n",
    "print(\"Where 1 = Good, 2 = Fair, 3 = Moderate, 4 = Poor, 5 = Very Poor\")"
   ]
  },
  {
   "cell_type": "code",
   "execution_count": null,
   "metadata": {},
   "outputs": [],
   "source": [
    "for i in range(len(weather_df.City)):\n",
    "    query_url2 = f\"{url2}lat={weather_df.iloc[i, 1]}&lon={weather_df.iloc[i, 2]}&start={start}&end={end}&appid={api_key}\"\n",
    "    response = requests.get(query_url2).json()\n",
    "    history_dt.append(response['list'][0]['dt'])\n",
    "    aqi.append(response['list'][0]['main']['aqi'])\n",
    "    co.append(response['list'][0]['components']['co'])\n",
    "    no.append(response['list'][0]['components']['no'])\n",
    "    no2.append(response['list'][0]['components']['no2'])\n",
    "    o3.append(response['list'][0]['components']['o3'])\n",
    "    so2.append(response['list'][0]['components']['so2'])\n",
    "    pm2_5.append(response['list'][0]['components']['pm2_5'])\n",
    "    pm10.append(response['list'][0]['components']['pm10'])\n",
    "    nh3.append(response['list'][0]['components']['nh3'])"
   ]
  },
  {
   "cell_type": "code",
   "execution_count": null,
   "metadata": {},
   "outputs": [],
   "source": [
    "print(f\"The timestamp information received is: {history_dt}\")\n",
    "print(f\"The Air Quality Index information received is: {aqi}\")\n",
    "print(f\"The concentration of Carbon monoxide is: {co} μg/m3\")\n",
    "print(f\"The concentration of Nitrogen monoxide is: {no} μg/m3\")\n",
    "print(f\"The concentration of Nitrogen dioxide is: {no2} μg/m3\")\n",
    "print(f\"The concentration of Ozone is: {o3} μg/m3\")\n",
    "print(f\"The concentration of Sulphur dioxide is: {so2} μg/m3\")\n",
    "print(f\"The concentration of Fine particle matter is: {pm2_5} μg/m3\")\n",
    "print(f\"The concentration of Coarse particulate matter is: {pm10} μg/m3\")\n",
    "print(f\"The concentration of Ammonia is: {nh3} μg/m3\")"
   ]
  },
  {
   "cell_type": "code",
   "execution_count": null,
   "metadata": {},
   "outputs": [],
   "source": [
    "# create a data frame from cities, lat, and temp\n",
    "history_dict = {\n",
    "    \"Timestamp\" : history_dt,\n",
    "    \"AQI\" : aqi,\n",
    "    \"CO (μg/m3)\" : co,\n",
    "    \"NO (μg/m3)\" : no,\n",
    "    \"NO2 (μg/m3)\" : no2,\n",
    "    \"O3 (μg/m3)\" : o3,\n",
    "    \"SO2 (μg/m3)\" : so2,\n",
    "    \"PM2_5 (μg/m3)\" : pm2_5,\n",
    "    \"PM10 (μg/m3)\" : pm10,\n",
    "    \"NH3 (μg/m3)\" : nh3,    \n",
    "}\n",
    "\n",
    "history_df = pd.DataFrame(history_dict)\n",
    "history_df"
   ]
  },
  {
   "cell_type": "code",
   "execution_count": null,
   "metadata": {},
   "outputs": [],
   "source": [
    "#------------------------------------------------------------------------------------------------------------------------------"
   ]
  },
  {
   "cell_type": "code",
   "execution_count": null,
   "metadata": {},
   "outputs": [],
   "source": [
    "#------------------------------------------------------------------------------------------------------------------------------"
   ]
  },
  {
   "cell_type": "code",
   "execution_count": null,
   "metadata": {},
   "outputs": [],
   "source": [
    "#------------------------------------------------------------------------------------------------------------------------------"
   ]
  }
 ],
 "metadata": {
  "kernelspec": {
   "display_name": "Python 3",
   "language": "python",
   "name": "python3"
  },
  "language_info": {
   "codemirror_mode": {
    "name": "ipython",
    "version": 3
   },
   "file_extension": ".py",
   "mimetype": "text/x-python",
   "name": "python",
   "nbconvert_exporter": "python",
   "pygments_lexer": "ipython3",
   "version": "3.8.5"
  }
 },
 "nbformat": 4,
 "nbformat_minor": 4
}
