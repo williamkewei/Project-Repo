{
 "cells": [
  {
   "cell_type": "code",
   "execution_count": 1,
   "metadata": {
    "scrolled": true
   },
   "outputs": [],
   "source": [
    "# Dependencies\n",
    "import gmaps\n",
    "import requests\n",
    "\n",
    "import numpy as np\n",
    "import pandas as pd\n",
    "import matplotlib.pyplot as plt\n",
    "\n",
    "from scipy import stats\n",
    "from config6 import gkey\n",
    "from pprint import pprint\n",
    "from config8 import api_key"
   ]
  },
  {
   "cell_type": "code",
   "execution_count": 2,
   "metadata": {
    "scrolled": true
   },
   "outputs": [
    {
     "name": "stdout",
     "output_type": "stream",
     "text": [
      "Hello there!\n",
      "\n",
      "Which city would you like to look at? Melbourne\n"
     ]
    }
   ],
   "source": [
    "print(\"Hello there!\")\n",
    "print(\"\")\n",
    "city = input(\"Which city would you like to look at? \")"
   ]
  },
  {
   "cell_type": "code",
   "execution_count": 3,
   "metadata": {
    "scrolled": true
   },
   "outputs": [],
   "source": [
    "url = 'http://api.waqi.info/feed/'+ city+'/?token='\n",
    "main_url = url + api_key\n",
    "response = requests.get(main_url)\n",
    "data = response.json()['data']"
   ]
  },
  {
   "cell_type": "code",
   "execution_count": 4,
   "metadata": {
    "scrolled": true
   },
   "outputs": [
    {
     "data": {
      "text/plain": [
       "{'aqi': 34,\n",
       " 'idx': 10141,\n",
       " 'attributions': [{'url': 'http://epa.vic.gov.au/',\n",
       "   'name': 'Environment Protection Authority | EPA Victoria',\n",
       "   'logo': 'Australia-Victoria.png'},\n",
       "  {'url': 'https://waqi.info/', 'name': 'World Air Quality Index Project'}],\n",
       " 'city': {'geo': [-37.8073959, 144.97],\n",
       "  'name': 'Melbourne CBD',\n",
       "  'url': 'https://aqicn.org/city/australia/melbourne/melbourne-cbd'},\n",
       " 'dominentpol': 'pm25',\n",
       " 'iaqi': {'co': {'v': 0.7},\n",
       "  'dew': {'v': 16.8},\n",
       "  'h': {'v': 72.8},\n",
       "  'no2': {'v': 3.8},\n",
       "  'o3': {'v': 14.5},\n",
       "  'p': {'v': 1014},\n",
       "  'pm10': {'v': 11},\n",
       "  'pm25': {'v': 34},\n",
       "  'r': {'v': 99.2},\n",
       "  'so2': {'v': 1.1},\n",
       "  't': {'v': 21.9},\n",
       "  'w': {'v': 2}},\n",
       " 'time': {'s': '2021-03-22 18:00:00',\n",
       "  'tz': '+11:00',\n",
       "  'v': 1616436000,\n",
       "  'iso': '2021-03-22T18:00:00+11:00'},\n",
       " 'forecast': {'daily': {'o3': [{'avg': 6,\n",
       "     'day': '2021-03-20',\n",
       "     'max': 21,\n",
       "     'min': 1},\n",
       "    {'avg': 2, 'day': '2021-03-21', 'max': 16, 'min': 1},\n",
       "    {'avg': 5, 'day': '2021-03-22', 'max': 51, 'min': 1},\n",
       "    {'avg': 5, 'day': '2021-03-23', 'max': 18, 'min': 1},\n",
       "    {'avg': 5, 'day': '2021-03-24', 'max': 14, 'min': 1},\n",
       "    {'avg': 11, 'day': '2021-03-25', 'max': 23, 'min': 6},\n",
       "    {'avg': 5, 'day': '2021-03-26', 'max': 7, 'min': 4}],\n",
       "   'pm10': [{'avg': 14, 'day': '2021-03-20', 'max': 27, 'min': 2},\n",
       "    {'avg': 6, 'day': '2021-03-21', 'max': 8, 'min': 4},\n",
       "    {'avg': 16, 'day': '2021-03-22', 'max': 32, 'min': 5},\n",
       "    {'avg': 15, 'day': '2021-03-23', 'max': 22, 'min': 7},\n",
       "    {'avg': 8, 'day': '2021-03-24', 'max': 14, 'min': 4},\n",
       "    {'avg': 6, 'day': '2021-03-25', 'max': 8, 'min': 3},\n",
       "    {'avg': 10, 'day': '2021-03-26', 'max': 11, 'min': 7}],\n",
       "   'pm25': [{'avg': 38, 'day': '2021-03-20', 'max': 72, 'min': 5},\n",
       "    {'avg': 18, 'day': '2021-03-21', 'max': 24, 'min': 11},\n",
       "    {'avg': 47, 'day': '2021-03-22', 'max': 79, 'min': 15},\n",
       "    {'avg': 50, 'day': '2021-03-23', 'max': 70, 'min': 25},\n",
       "    {'avg': 28, 'day': '2021-03-24', 'max': 49, 'min': 15},\n",
       "    {'avg': 17, 'day': '2021-03-25', 'max': 24, 'min': 9},\n",
       "    {'avg': 25, 'day': '2021-03-26', 'max': 28, 'min': 20}],\n",
       "   'uvi': [{'avg': 1, 'day': '2021-03-22', 'max': 3, 'min': 0},\n",
       "    {'avg': 0, 'day': '2021-03-23', 'max': 1, 'min': 0},\n",
       "    {'avg': 0, 'day': '2021-03-24', 'max': 3, 'min': 0},\n",
       "    {'avg': 1, 'day': '2021-03-25', 'max': 4, 'min': 0},\n",
       "    {'avg': 1, 'day': '2021-03-26', 'max': 5, 'min': 0}]}},\n",
       " 'debug': {'sync': '2021-03-22T16:16:59+09:00'}}"
      ]
     },
     "execution_count": 4,
     "metadata": {},
     "output_type": "execute_result"
    }
   ],
   "source": [
    "data"
   ]
  },
  {
   "cell_type": "code",
   "execution_count": 5,
   "metadata": {
    "scrolled": true
   },
   "outputs": [],
   "source": [
    "aqi = data['aqi']\n",
    "iaqi = [data['iaqi']]\n",
    "dominentpol = data['dominentpol']"
   ]
  },
  {
   "cell_type": "code",
   "execution_count": null,
   "metadata": {},
   "outputs": [],
   "source": [
    "for city in city:\n",
    "    response = requests.get('http://api.waqi.info/feed/' + city + '/?token=' + api_key).json()\n",
    "    try:\n",
    "        iaqi.append(response['data']['iaqi'])\n",
    "        del iaqi['p']\n",
    "        print(f\"{city}'s iaqi['p'] was found and removed! Appending stats\")\n",
    "    except:\n",
    "        iaqi.append(\"-\")\n",
    "        print(\"Data not found\")\n",
    "        pass\n",
    "    \n",
    "    \n",
    "for city in city:\n",
    "    response = requests.get('http://api.waqi.info/feed/' + city + '/?token=' + api_key).json()\n",
    "    try:\n",
    "        iaqi.append(response['data']['iaqi'])\n",
    "        print(f\"{city}'s iaqi['dew'] was found and removed! Appending stats\")\n",
    "    except:\n",
    "        print(\"Data not found\")\n",
    "        pass\n",
    "    \n",
    "    \n",
    "for city in city:\n",
    "    response = requests.get('http://api.waqi.info/feed/' + city + '/?token=' + api_key).json()\n",
    "    try:\n",
    "        iaqi.append(response['data']['iaqi'])\n",
    "        del iaqi['r']\n",
    "        print(f\"{city}'s iaqi['r'] was found and removed! Appending stats\")\n",
    "    except:\n",
    "        print(\"Data not found\")\n",
    "        pass\n",
    "    \n",
    "        \n",
    "for city in city:\n",
    "    response = requests.get('http://api.waqi.info/feed/' + city + '/?token=' + api_key).json()\n",
    "    try:\n",
    "        iaqi.append(response['data']['iaqi'])\n",
    "        del iaqi['t']\n",
    "        print(f\"{city}'s iaqi['t'] was found and removed! Appending stats\")\n",
    "    except:\n",
    "        print(\"Data not found\")\n",
    "        pass\n",
    "    \n",
    "\n",
    "for city in city:\n",
    "    response = requests.get('http://api.waqi.info/feed/' + city + '/?token=' + api_key).json()\n",
    "    try:\n",
    "        iaqi.append(response['data']['iaqi'])\n",
    "        del iaqi['w']\n",
    "        print(f\"{city}'s iaqi['w'] was found and removed! Appending stats\")\n",
    "    except:\n",
    "        print(\"Data not found\")\n",
    "        pass\n",
    "    \n",
    "    \n",
    "for city in city:\n",
    "    response = requests.get('http://api.waqi.info/feed/' + city + '/?token=' + api_key).json()\n",
    "    try:\n",
    "        iaqi.append(response['data']['iaqi'])\n",
    "        del iaqi['no2']\n",
    "        print(f\"{city}'s iaqi['no2'] was found and removed! Appending stats\")\n",
    "    except:\n",
    "        print(\"Data not found\")\n",
    "        pass\n",
    "    \n",
    "    \n",
    "for city in city:\n",
    "    response = requests.get('http://api.waqi.info/feed/' + city + '/?token=' + api_key).json()\n",
    "    try:\n",
    "        iaqi.append(response.data['iaqi'])\n",
    "        del iaqi['h']\n",
    "        print(f\"{city}'s iaqi['h'] was found and removed! Appending stats\")\n",
    "    except:\n",
    "        print(\"Data not found\")\n",
    "        pass"
   ]
  },
  {
   "cell_type": "code",
   "execution_count": 6,
   "metadata": {},
   "outputs": [
    {
     "data": {
      "text/plain": [
       "[{'co': {'v': 0.7},\n",
       "  'dew': {'v': 16.8},\n",
       "  'h': {'v': 72.8},\n",
       "  'no2': {'v': 3.8},\n",
       "  'o3': {'v': 14.5},\n",
       "  'p': {'v': 1014},\n",
       "  'pm10': {'v': 11},\n",
       "  'pm25': {'v': 34},\n",
       "  'r': {'v': 99.2},\n",
       "  'so2': {'v': 1.1},\n",
       "  't': {'v': 21.9},\n",
       "  'w': {'v': 2}}]"
      ]
     },
     "execution_count": 6,
     "metadata": {},
     "output_type": "execute_result"
    }
   ],
   "source": [
    "iaqi"
   ]
  },
  {
   "cell_type": "code",
   "execution_count": null,
   "metadata": {},
   "outputs": [],
   "source": [
    "for i in iaqi:\n",
    "    try:\n",
    "        del iaqi['p']\n",
    "        print(\"Deleting iaqi['p'] information complete\")\n",
    "    except:\n",
    "        print(\"Data not found\")"
   ]
  },
  {
   "cell_type": "code",
   "execution_count": 7,
   "metadata": {
    "scrolled": true
   },
   "outputs": [
    {
     "ename": "TypeError",
     "evalue": "list indices must be integers or slices, not str",
     "output_type": "error",
     "traceback": [
      "\u001b[1;31m---------------------------------------------------------------------------\u001b[0m",
      "\u001b[1;31mTypeError\u001b[0m                                 Traceback (most recent call last)",
      "\u001b[1;32m<ipython-input-7-b7c5eae51454>\u001b[0m in \u001b[0;36m<module>\u001b[1;34m\u001b[0m\n\u001b[1;32m----> 1\u001b[1;33m \u001b[1;32mdel\u001b[0m \u001b[0miaqi\u001b[0m\u001b[1;33m[\u001b[0m\u001b[1;34m'p'\u001b[0m\u001b[1;33m]\u001b[0m\u001b[1;33m,\u001b[0m \u001b[0miaqi\u001b[0m\u001b[1;33m[\u001b[0m\u001b[1;34m'dew'\u001b[0m\u001b[1;33m]\u001b[0m\u001b[1;33m,\u001b[0m \u001b[0miaqi\u001b[0m\u001b[1;33m[\u001b[0m\u001b[1;34m'r'\u001b[0m\u001b[1;33m]\u001b[0m\u001b[1;33m,\u001b[0m \u001b[0miaqi\u001b[0m\u001b[1;33m[\u001b[0m\u001b[1;34m't'\u001b[0m\u001b[1;33m]\u001b[0m\u001b[1;33m,\u001b[0m \u001b[0miaqi\u001b[0m\u001b[1;33m[\u001b[0m\u001b[1;34m'w'\u001b[0m\u001b[1;33m]\u001b[0m\u001b[1;33m,\u001b[0m \u001b[0miaqi\u001b[0m\u001b[1;33m[\u001b[0m\u001b[1;34m'no2'\u001b[0m\u001b[1;33m]\u001b[0m\u001b[1;33m,\u001b[0m \u001b[0miaqi\u001b[0m\u001b[1;33m[\u001b[0m\u001b[1;34m'h'\u001b[0m\u001b[1;33m]\u001b[0m\u001b[1;33m\u001b[0m\u001b[1;33m\u001b[0m\u001b[0m\n\u001b[0m",
      "\u001b[1;31mTypeError\u001b[0m: list indices must be integers or slices, not str"
     ]
    }
   ],
   "source": [
    "del iaqi['p'], iaqi['dew'], iaqi['r'], iaqi['t'], iaqi['w'], iaqi['no2'], iaqi['h']"
   ]
  },
  {
   "cell_type": "code",
   "execution_count": 8,
   "metadata": {
    "scrolled": true
   },
   "outputs": [
    {
     "ename": "AttributeError",
     "evalue": "'list' object has no attribute 'items'",
     "output_type": "error",
     "traceback": [
      "\u001b[1;31m---------------------------------------------------------------------------\u001b[0m",
      "\u001b[1;31mAttributeError\u001b[0m                            Traceback (most recent call last)",
      "\u001b[1;32m<ipython-input-8-b250e477b164>\u001b[0m in \u001b[0;36m<module>\u001b[1;34m\u001b[0m\n\u001b[1;32m----> 1\u001b[1;33m \u001b[1;32mfor\u001b[0m \u001b[0mi\u001b[0m \u001b[1;32min\u001b[0m \u001b[0miaqi\u001b[0m\u001b[1;33m.\u001b[0m\u001b[0mitems\u001b[0m\u001b[1;33m(\u001b[0m\u001b[1;33m)\u001b[0m\u001b[1;33m:\u001b[0m\u001b[1;33m\u001b[0m\u001b[1;33m\u001b[0m\u001b[0m\n\u001b[0m\u001b[0;32m      2\u001b[0m     \u001b[0mprint\u001b[0m\u001b[1;33m(\u001b[0m\u001b[0mi\u001b[0m\u001b[1;33m[\u001b[0m\u001b[1;36m0\u001b[0m\u001b[1;33m]\u001b[0m\u001b[1;33m,\u001b[0m\u001b[1;34m':'\u001b[0m\u001b[1;33m,\u001b[0m\u001b[0mi\u001b[0m\u001b[1;33m[\u001b[0m\u001b[1;36m1\u001b[0m\u001b[1;33m]\u001b[0m\u001b[1;33m[\u001b[0m\u001b[1;34m'v'\u001b[0m\u001b[1;33m]\u001b[0m\u001b[1;33m)\u001b[0m\u001b[1;33m\u001b[0m\u001b[1;33m\u001b[0m\u001b[0m\n",
      "\u001b[1;31mAttributeError\u001b[0m: 'list' object has no attribute 'items'"
     ]
    }
   ],
   "source": [
    "for i in iaqi.items():\n",
    "    print(i[0],':',i[1]['v'])"
   ]
  },
  {
   "cell_type": "code",
   "execution_count": null,
   "metadata": {
    "scrolled": true
   },
   "outputs": [],
   "source": [
    "pollutants = [i for i in iaqi]\n",
    "values = [i['v'] for i in iaqi.values()]"
   ]
  },
  {
   "cell_type": "code",
   "execution_count": null,
   "metadata": {
    "scrolled": true
   },
   "outputs": [],
   "source": [
    "print (pollutants)\n",
    "print (values)"
   ]
  },
  {
   "cell_type": "code",
   "execution_count": null,
   "metadata": {
    "scrolled": true
   },
   "outputs": [],
   "source": [
    "# create dataframe\n",
    "pollutants_df = pd.DataFrame({\n",
    "    \"Pollutants\": pollutants,\n",
    "    \"Values\": values\n",
    "})"
   ]
  },
  {
   "cell_type": "code",
   "execution_count": null,
   "metadata": {
    "scrolled": true
   },
   "outputs": [],
   "source": [
    "pollutants_df"
   ]
  },
  {
   "cell_type": "code",
   "execution_count": null,
   "metadata": {
    "scrolled": true
   },
   "outputs": [],
   "source": [
    "#   How do change the index to pollutant name?"
   ]
  },
  {
   "cell_type": "code",
   "execution_count": null,
   "metadata": {
    "scrolled": true
   },
   "outputs": [],
   "source": [
    "labels = pollutants_df.index\n",
    "colors = ['lightskyblue', 'red', 'blue', 'green', 'gold', 'orange']\n",
    "plt.pie(pollutants_df['Values'], labels= ['co', 'o3', 'pm10', 'pm2.5', 'so2'], colors=colors, startangle=90, autopct='%.1f%%')\n",
    "plt.show()"
   ]
  },
  {
   "cell_type": "code",
   "execution_count": null,
   "metadata": {
    "scrolled": true
   },
   "outputs": [],
   "source": [
    "print(f\"The dominant pollutant in this city is {data['dominentpol']}.\")"
   ]
  },
  {
   "cell_type": "code",
   "execution_count": null,
   "metadata": {
    "scrolled": true
   },
   "outputs": [],
   "source": [
    "if dominentpol == \"co\":\n",
    "    print(\"\")\n",
    "    print(\"                                               CARBON MONOXIDE (CO)                                                 \")\n",
    "    print(\"\")\n",
    "    print(\"             Carbon monoxide is an odourless, colourless gas produced by incomplete oxidation (burning).            \")  \n",
    "    print(\"            Although any combustion process will contribute to the concentration of CO in the atmosphere,           \")\n",
    "    print(\"                            in cities, motor vehicles are by far the largest human source.                          \")\n",
    "    print(\"                      Breathing the high concentrations of CO typical of a polluted environment                     \")\n",
    "    print(\"                                leads to reduced oxygen (O2) transport by hemoglobin                                \")\n",
    "    print(\"                           and has health effects that include headaches, increased risk of                         \") \n",
    "    print(\"                       chest pain for persons with heart disease, and impaired reaction timing.                     \")\n",
    "    print(\"\")\n",
    "elif (dominentpol == \"co\"):\n",
    "    print(\"\")\n",
    "    print(\"                                                    OZONE (O3)                                                      \")\n",
    "    print(\"\")\n",
    "    print(\"      A colorless gas, which is a highly reactive compound in which each molecule consists of three oxygen atoms.   \")\n",
    "    print(\"                   Ozone (O3) is a gas. High in the atmosphere, it protects us from UV radiation.                   \")\n",
    "    print(\"                                     But at ground level, ozone is a pollutant.                                     \")\n",
    "    print(\"                           Ozone can occasionally cause poor air quality during summer.                             \") \n",
    "    print(\"                                       It’s the main pollutant in summer smog.                                      \")\n",
    "    print(\"                  Breathing in high levels of ozone can irritate the lining of your throat and lungs.               \")\n",
    "    print(\"                    This can make it difficult to breathe. People most sensitive to ozone include:                  \")\n",
    "    print(\"                                            - those with lung conditions                                            \")\n",
    "    print(\"                                                    - children                                                      \")\n",
    "    print(\"                                                 - people over 65.                                                  \")\n",
    "    print(\"\")\n",
    "elif (dominentpol == \"so2\"):\n",
    "    print(\"\")\n",
    "    print(\"                                                CARBON DIOXIDE (SO2)                                                \")\n",
    "    print(\"                     A colorless, poisonous gas or liquid, SO 2, that has a strong odor. It is formed               \")\n",
    "    print(\"        naturally by volcanic activity, and is a waste gas produced by burning coal and oil and by many industrial  \") \n",
    "    print(\"         processes, such as smelting. It is also a hazardous air pollutant and a major contributor to acid rain.    \") \n",
    "    print(\"                             Sulfur dioxide causes a range of harmful effects on the lungs,                         \")\n",
    "    print(\"          as the EPA's most recent review of the Sulfur dioxide causes a range of harmful effects on the lungs,     \")\n",
    "    print(\"            as the EPA's most recent review of the science concluded: Wheezing, shortness of breath and chest       \")  \n",
    "    print(\"                       tightness and other problems, especially during exercise or physical activity.               \")\n",
    "    print(\"\")\n",
    "elif (dominentpol == \"pm2.5\"):\n",
    "    print(\"\")\n",
    "    print(\"                                          PARTICULATE MATTER 2.5 (PM2.5)                                            \")\n",
    "    print(\"                          PM2.5 refers to atmospheric particulate matter (PM) that have a                           \")\n",
    "    print(\"                diameter of less than 2.5 micrometers, which is about 3% the diameter of a human hair.              \")\n",
    "    print(\"     Particles in the PM 2.5 size range are able to travel deeply into the respiratory tract, reaching the lungs.   \")\n",
    "    print(\"               Exposure to fine particles can cause short-term health effects such as eye, nose, throat             \")\n",
    "    print(\"                     and lung irritation, coughing, sneezing, runny nose and shortness of breath.                   \")\n",
    "    print(\"\")\n",
    "elif (dominentpol == \"pm10\"):\n",
    "    print(\"\")\n",
    "    print(\"                                           PARTICULATE MATTER 10 (PM10)                                             \")\n",
    "    print(\"\")\n",
    "    print(\"                              PM10 are the particles with a diameter of 10 micrometers                              \")\n",
    "    print(\"        and they are also called fine particles.PM 10 is of particular concern because of high concentrations,      \")\n",
    "    print(\"               in some areas. It can also damage health with associated effects ranging from respiratory            \")\n",
    "    print(\"      irritation to cancer. This indicator considers PM 10 from human-made sources, such as burning wood or coal    \")\n",
    "    print(\"                                 for home heating or road motor vehicle emissions.                                  \")\n",
    "    print(\"\")\n",
    "else:\n",
    "    print(\"\")\n",
    "    print(\"Very sorry, but the data requested has not been coded yet\")\n",
    "    print(\"\")\n",
    "    print(\"\")"
   ]
  },
  {
   "cell_type": "code",
   "execution_count": null,
   "metadata": {
    "scrolled": true
   },
   "outputs": [],
   "source": []
  },
  {
   "cell_type": "code",
   "execution_count": null,
   "metadata": {
    "scrolled": true
   },
   "outputs": [],
   "source": []
  }
 ],
 "metadata": {
  "kernelspec": {
   "display_name": "Python 3",
   "language": "python",
   "name": "python3"
  },
  "language_info": {
   "codemirror_mode": {
    "name": "ipython",
    "version": 3
   },
   "file_extension": ".py",
   "mimetype": "text/x-python",
   "name": "python",
   "nbconvert_exporter": "python",
   "pygments_lexer": "ipython3",
   "version": "3.6.10"
  }
 },
 "nbformat": 4,
 "nbformat_minor": 4
}
