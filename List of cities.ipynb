{
 "cells": [
  {
   "cell_type": "code",
   "execution_count": null,
   "metadata": {},
   "outputs": [],
   "source": [
    "#List of cities in Africa by population (len = 100)\n",
    "african_cities = [\"Kinshasa\", \"Lagos\", \"Cairo\", \"Giza\", \"Johannesburg\", \"Dar es Salaam\", \"Alexandria\", \"Abidjan\", \"Nairobi\", \n",
    "                  \"Cape Town\", \"Casablanca\", \"Accra\", \"Ekurhuleni\", \"Durban\", \"Tshwane\", \"Algiers\", \"Kumasi\", \"Tripoli\", \n",
    "                  \"Addis Ababa\", \"Kano\", \"Luanda\", \"Ibadan\", \"Douala\", \"Omdurman\", \"Yaoundé\", \"Bamako\", \"Lusaka\", \"Conakry\", \n",
    "                  \"Mogadishu\", \"Kampala\", \"Mombasa\", \"Harare\", \"Lomé\", \"Ouagadougou\", \"Khartoum\", \"Brazzaville\", \"Antananarivo\",\n",
    "                  \"Lubumbashi\", \"Kisumu\", \"Mbuji-Mayi\", \"Gqeberha\", \"Shubra el-Kheima\", \"Dakar\", \"Benin City\", \"Kigali\", \"Fez\",\n",
    "                  \"Bujumbura\", \"Freetown\", \"Maputo\", \"Monrovia\", \"Khartoum North\", \"Port Harcourt\", \"Lilongwe\", \"Niamey\", \n",
    "                  \"Nouakchott\", \"N'Djamena\", \"Tangier\", \"Marrakesh\", \"Salé\", \"Bukavu\", \"Mangaung (Bloemfontein)\", \"Jos\", \"Oran\",\n",
    "                  \"East London (eMonti)\", \"Blantyre\", \"Ilorin\", \"Abuja\", \"Asmara\", \"Port Said\", \"Kaduna\", \"Touba\", \"Hargeis\", \n",
    "                  \"Suez\", \"Enugu\", \"Kananga\", \"Pointe-Noire\", \"Mwanza\", \"Libreville\", \"Zaria\", \"Kisangani\", \"Cotonou\", \n",
    "                  \"Nampula\", \"Bulawayo\", \"Tunis\", \"Bangui\", \"Beira\", \"Rabat\", \"Kolwezi\", \"El Mansoura\", \"Benghazi\", \"Warri\",\n",
    "                  \"El Mahalla el-Kubra\", \"Maiduguri\", \"Bouaké\", \"Ikorodu\", \"Aba\", \"Tanta\", \"Meknes\", \"Ife\", \"Zanzibar City\"]"
   ]
  },
  {
   "cell_type": "code",
   "execution_count": null,
   "metadata": {},
   "outputs": [],
   "source": [
    "#Most populous metropolitan areas in the Americas (len = 50)\n",
    "americas_cities = [\"São Paulo\", \"Mexico City\", \"New York\", \"Buenos Aires\", \"Los Angeles\", \"Rio de Janeiro\", \"Lima\", \n",
    "                   \"Chicago\", \"Bogotá\", \"Dallas–Fort Worth\", \"Santiago\", \"Houston\", \"Toronto\", \"Washington\", \"Philadelphia\", \n",
    "                   \"Miami–Fort Lauderdale\", \"Belo Horizonte\", \"Atlanta\", \"Caracas\", \"Guadalajara\", \"Boston\", \"Monterrey\", \n",
    "                   \"San Francisco–Oakland\", \"Phoenix\", \"Riverside–San Bernardino\", \"Detroit\", \"Porto Alegre\", \"Brasília\", \n",
    "                   \"Montreal\", \"Fortaleza\", \"Salvador\", \"Recife\", \"Medellín\", \"Seattle\", \"Santo Domingo\", \n",
    "                   \"Minneapolis–Saint Paul\", \"Curitiba\", \"San Diego\", \"Campinas\", \"Tampa–Saint Petersburg\",\"Guayaquil\", \n",
    "                   \"Puebla–Tlaxcala\", \"Cali\", \"Denver\", \"St. Louis\", \"Baltimore\", \"Guatemala City\", \"Asunción\", \"Quito\", \n",
    "                   \"Port-au-Prince\"]"
   ]
  },
  {
   "cell_type": "code",
   "execution_count": 16,
   "metadata": {},
   "outputs": [],
   "source": [
    "#List of Asian cities by population within city limits (len = 50)\n",
    "asian_cities = [\"Shanghai\", \"Karachi\", \"Beijing\", \"Dhaka\", \"Delhi\", \"Istanbul\", \"Tokyo\", \"Mumbai\", \"Guangzhou\", \"Shenzhen\", \n",
    "                \"Suzhou\", \"Jakarta\", \"Lahore\", \"South Korea\", \"Ho Chi Minh City\", \"Bengalururu Metropolitan Region \",\n",
    "                \"Bangkok\", \"Dongguan\", \"Chongqing\", \"Nanjing\", \"Tehran\", \"Shenyang\", \"Hanoi\", \"Hong Kong\", \"Baghdad\", \n",
    "                \"Chennai\", \"Changsha\", \"Wuhan\", \"Tianjin\", \"Hyderabad\", \"Faisalabad\", \"Foshan\", \"Zunyi\", \"Chittagong\", \n",
    "                \"Riyadh\", \"Ahmedabad\", \"Singapore\", \"Shantou\", \"Ankara\", \"Yangon\", \"Chengdu\", \"Kolkata\", \"Xi'an\", \"Surat\", \n",
    "                \"Harbin\", \"Izmir\", \"Zhengzhou\", \"New Taipei City\", \"Yokohama\", \"Hangzhou\"]"
   ]
  },
  {
   "cell_type": "code",
   "execution_count": null,
   "metadata": {},
   "outputs": [],
   "source": [
    "#List of European cities by population within city limits (len = 75)\n",
    "european_cities = [\"Moscow\", \"Istanbul\", \"London\", \"Paris\", \"Milan\", \"Naples\", \"Rome\", \"Madrid\", \"Athens\", \"Saint Petersburg\", \n",
    "                   \"Ruhr\", \"Barcelona\", \"Berlin\", \"Kyiv\", \"Rotterdam–The Hague\", \"Birmingham\", \"Hamburg\", \"Greater Manchester\",\n",
    "                   \"Lisbon\", \"Budapest\", \"Katowice\", \"West Yorkshire\", \"Warsaw\", \"Bucharest\", \"Stockholm\", \"Munich\", \"Vienna\",\n",
    "                   \"Stuttgart\", \"Amsterdam\", \"Frankfurt Rhine\", \"Brussels\", \"Rhein-Süd\", \"Minsk\", \"Valencia\", \n",
    "                   \"Nizhniy Novgorod\", \"Belgrade\", \"Turin\", \"Kharkiv\", \"Lyon\", \"Marseille\", \"Donetsk\", \"Greater Glasgow\", \n",
    "                   \"Copenhagen\", \"Prague\", \"Dnipro\", \"Volgograd\", \"Liverpool\", \"Seville\", \"South Yorkshire\", \"Samara\", \"Sofia\",\n",
    "                   \"Lille Kortrijk Tournai\", \"Porto\", \"Rhein-Nord\", \"Rostov on Don\", \"Zürich\", \"Kazan\", \"Greater Oslo\", \n",
    "                   \"Helsinki\", \"Tyne–Wear\", \"Dublin\", \"Odessa\", \"Saratov\", \"Nuremberg\", \"Perm\", \"Ufa\", \"Antwerp\", \"Cardiff\", \n",
    "                   \"The Hague\", \"Kraków\", \"Newcastle\", \"Rotterdam\", \"Nice\", \"The Hague\", \"Thessaloniki\"]"
   ]
  },
  {
   "cell_type": "code",
   "execution_count": null,
   "metadata": {},
   "outputs": [],
   "source": [
    "#List of cities in Oceania by population (len = 37)\n",
    "oceania_cities = [\"Sydney\", \"Melbourne\", \"Brisbane\", \"Perth\", \"Auckland\", \"Adelaide\", \"Gold Coast\", \"Newcastle\", \"Canberra\",\n",
    "                  \"Honolulu\", \"Christchurch\", \"Port Moresby\", \"Sunshine Coast\", \"Central Coast\", \"Wollongong\", \"Geelong\",\n",
    "                  \"Hobart\", \"Wellington\", \"Townsville\", \"Nouméa\", \"Hamilton\", \"Cairns\", \"Tauranga\", \"Toowoomba\", \"Papeete\",\n",
    "                  \"Darwin\", \"Lower Hutt\", \"Ballarat\", \"Dunedin\", \"Bendigo\", \"Lae\", \"Albury–Wodonga\", \"Launceston\", \"Suva\",\n",
    "                  \"Honiara\", \"Palmerston North\", \"Mackay\"]"
   ]
  },
  {
   "cell_type": "code",
   "execution_count": null,
   "metadata": {},
   "outputs": [],
   "source": [
    "#List of North American cities by population (len = 50)\n",
    "namerican_cities = [\"Mexico City\", \"New York City\", \"Los Angeles\", \"Toronto\", \"Chicago\", \"Houston\", \"Havana\", \"Montreal\",\n",
    "                    \"Ecatepec de Morelos\", \"Philadelphia\", \"Phoenix\", \"San Antonio\", \"Guadalajara\", \"Puebla\", \"San Diego\",\n",
    "                    \"Juárez\", \"León\", \"Dallas\", \"Tijuana\",  \"Tegucigalpa\", \"Zapopan\", \"Monterrey\", \"Managua\", \"Nezahualcóyotl\",\n",
    "                    \"San Jose\", \"Santo Domingo\", \"Guatemala City\",  \"Port-au-Prince\", \"Naucalpan\", \"Ottawa\", \"Austin\", \n",
    "                    \"Edmonton\", \"Mérida\", \"Querétaro\", \"Toluca\", \"Jacksonville\", \"Chihuahua\",  \"San Francisco\", \"Indianapolis\", \n",
    "                    \"Columbus\", \"Fort Worth\", \"Charlotte\", \"Hermosillo\", \"Saltillo\", \"Aguascalientes\", \"Mississauga\", \n",
    "                    \"San Luis Potosí\", \"Veracruz\", \"San Pedro Sula\"]"
   ]
  },
  {
   "cell_type": "code",
   "execution_count": null,
   "metadata": {},
   "outputs": [],
   "source": [
    "#List of cities in South America by population (len = 50)\n",
    "samerican_cities = [\"São Paulo\", \"Lima\", \"Bogotá\", \"Rio de Janeiro\", \"Santiago\", \"Caracas\", \"Buenos Aires\", \"Salvador\", \n",
    "                    \"Brasília\", \"Fortaleza\", \"Guayaquil\", \"Quito\", \"Belo Horizonte\", \"Medellín\", \"Cali\", \"Manaus\", \"Curitiba\", \n",
    "                    \"Maracaibo\", \"Recife\", \"Santa Cruz de la Sierra\", \"Porto Alegre\", \"Belém\", \"Goiânia\", \"Córdoba\", \n",
    "                    \"Montevideo\", \"Guarulhos\", \"Barranquilla\", \"Campinas\", \"Barquisimeto\", \"São Luís\", \"São Gonçalo\", \"Maceió\",\n",
    "                    \"Callao\", \"Rosario\", \"Cartagena\", \"Valencia\", \"El Alto\", \"Duque de Caxias\", \"Ciudad Guayana\", \"Natal\", \n",
    "                    \"Arequipa\", \"Campo Grande\", \"Teresina\", \"São Bernardo do Campo\", \"Nova Iguaçu\", \"Trujillo\", \"João Pessoa\",\n",
    "                    \"La Paz\", \"Santo André\", \"Osasco\"]"
   ]
  },
  {
   "cell_type": "code",
   "execution_count": null,
   "metadata": {},
   "outputs": [],
   "source": [
    "#https://theculturetrip.com/asia/japan/articles/the-10-most-modern-cities-in-the-world/\n",
    "top10_most_modern_world = [\"Tokyo\", \"Singapore\", \"Super Trees Singapore \", \"Tallinn\", \"Helsinki\", \"Bangalore\", \"Shanghai\", \n",
    "                           \"Seoul\", \"San Francisco\", \"London\"]"
   ]
  },
  {
   "cell_type": "code",
   "execution_count": null,
   "metadata": {},
   "outputs": [],
   "source": [
    "#https://www.bbc.com/news/business-45174600#:~:text=The%20ten%20most%20liveable%20cities%20in%202018%201,Toronto,%20Canada%209%20Copenhagen,%20Denmark%2010%20Adelaide,%20Australia\n",
    "top10_most_liveable_cities = [\"Vienna\", \"Melbourne\", \"Osaka\", \"Calgary\", \"Sydney\", \"Vancouver\", \"Tokyo\", \"Toronto\", \n",
    "                              \"Copenhagen\", \"Adelaide\"]"
   ]
  },
  {
   "cell_type": "code",
   "execution_count": null,
   "metadata": {},
   "outputs": [],
   "source": [
    "#https://thefairytaletraveler.com/2017/04/19/futuristic-cities/#:~:text=1%20Hong%20Kong,%20China%202%20Singapore,%20its%20own,India%209%20Songdo,%20South%20Korea%2010%20Toronto,%20Canada\n",
    "top12_futuristic_cities = [\"Hong Kong\", \"Singapore\", \"Dubai\", \"Masdar\", \"Silicon Valley\", \"The San Francisco Bay Area \", \n",
    "                           \"California\", \"Tokyo\", \"Brasilia\", \"Bangalore\", \"Songdo\", \"Toronto\"]"
   ]
  },
  {
   "cell_type": "code",
   "execution_count": null,
   "metadata": {},
   "outputs": [],
   "source": [
    "#https://www.worldatlas.com/articles/the-oldest-cities-in-the-world.html#:~:text=The%20Oldest%20Cities%20In%20The%20World%201%20Jericho,,...%2010%20Damascus,%20Syria%20-%203000%20BCE.\n",
    "top15_oldest_cities = [\"Jericho\", \"Argos\", \"Byblos\", \"Athens\", \"Susa/Shush\", \"Gaziantep\", \"Luxor\", \"Rayy\", \"Beirut\", \"Damascus\"]"
   ]
  },
  {
   "cell_type": "code",
   "execution_count": null,
   "metadata": {},
   "outputs": [],
   "source": [
    "#https://www.worldatlas.com/articles/what-is-the-richest-city-in-the-world.html#:~:text=The%20World%27s%20Top%2010%20Richest%20Cities%20%20,%20%20880%20%206%20more%20rows%20\n",
    "top15_richest_cities = [\"Japan\", \"New York\", \"Los Angeles\", \"London\", \"Paris\", \"Chicago\", \"Seoul\", \"Osaka\", \"São Paulo\", \"Rhine-Ruhr\"]"
   ]
  }
 ],
 "metadata": {
  "kernelspec": {
   "display_name": "Python 3",
   "language": "python",
   "name": "python3"
  },
  "language_info": {
   "codemirror_mode": {
    "name": "ipython",
    "version": 3
   },
   "file_extension": ".py",
   "mimetype": "text/x-python",
   "name": "python",
   "nbconvert_exporter": "python",
   "pygments_lexer": "ipython3",
   "version": "3.6.10"
  }
 },
 "nbformat": 4,
 "nbformat_minor": 4
}
